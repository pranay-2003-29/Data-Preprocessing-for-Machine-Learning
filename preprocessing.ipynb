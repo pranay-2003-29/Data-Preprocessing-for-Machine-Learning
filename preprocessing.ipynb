{
 "cells": [
  {
   "cell_type": "code",
   "execution_count": 43,
   "id": "0a9deef0",
   "metadata": {},
   "outputs": [],
   "source": [
    "import pandas as pd\n",
    "import numpy as np\n",
    "from sklearn.model_selection import train_test_split\n",
    "from sklearn.preprocessing import StandardScaler, MinMaxScaler, OneHotEncoder, LabelEncoder"
   ]
  },
  {
   "cell_type": "code",
   "execution_count": 44,
   "id": "8840360e",
   "metadata": {},
   "outputs": [],
   "source": [
    "# Step 1: Load your dataset\n",
    "data = pd.read_csv(\"D:\\\\college\\\\projects\\\\Iris.csv\")"
   ]
  },
  {
   "cell_type": "code",
   "execution_count": 45,
   "id": "932b26c6",
   "metadata": {},
   "outputs": [],
   "source": [
    "# Step 2: Handle missing data\n",
    "for col in data.select_dtypes(include=[np.number]).columns:\n",
    "    data[col].fillna(data[col].mean(), inplace=True)"
   ]
  },
  {
   "cell_type": "code",
   "execution_count": 46,
   "id": "f7053219",
   "metadata": {},
   "outputs": [],
   "source": [
    "# Step 3: Encode categorical variables\n",
    "categorical_cols = data.select_dtypes(include=['object', 'category']).columns"
   ]
  },
  {
   "cell_type": "code",
   "execution_count": 47,
   "id": "1d724b11",
   "metadata": {},
   "outputs": [],
   "source": [
    "# One-hot encoding\n",
    "data = pd.get_dummies(data, columns=categorical_cols, drop_first=True)"
   ]
  },
  {
   "cell_type": "code",
   "execution_count": 48,
   "id": "1907c72a",
   "metadata": {},
   "outputs": [],
   "source": [
    "# Step 4: Normalize or standardize numerical features\n",
    "numerical_cols = data.select_dtypes(include=[np.number]).columns\n",
    "scaler = StandardScaler()\n",
    "data[numerical_cols] = scaler.fit_transform(data[numerical_cols])"
   ]
  },
  {
   "cell_type": "code",
   "execution_count": 49,
   "id": "876ee9ef",
   "metadata": {},
   "outputs": [],
   "source": [
    "# Step 5: Split dataset into features and target\n",
    "X = data.iloc[:, :-1]\n",
    "y = data.iloc[:, -1]"
   ]
  },
  {
   "cell_type": "code",
   "execution_count": 50,
   "id": "bf8b0e25",
   "metadata": {},
   "outputs": [],
   "source": [
    "# Step 6: Split into training and testing sets\n",
    "X_train, X_test, y_train, y_test = train_test_split(\n",
    "    X, y, test_size=0.2, random_state=42)"
   ]
  },
  {
   "cell_type": "code",
   "execution_count": 51,
   "id": "3f10da21",
   "metadata": {},
   "outputs": [
    {
     "name": "stdout",
     "output_type": "stream",
     "text": [
      "Training set shape: (120, 6)\n",
      "Testing set shape: (30, 6)\n"
     ]
    }
   ],
   "source": [
    "print(\"Training set shape:\", X_train.shape)\n",
    "print(\"Testing set shape:\", X_test.shape)"
   ]
  }
 ],
 "metadata": {
  "kernelspec": {
   "display_name": "Python 3",
   "language": "python",
   "name": "python3"
  },
  "language_info": {
   "codemirror_mode": {
    "name": "ipython",
    "version": 3
   },
   "file_extension": ".py",
   "mimetype": "text/x-python",
   "name": "python",
   "nbconvert_exporter": "python",
   "pygments_lexer": "ipython3",
   "version": "3.12.0"
  }
 },
 "nbformat": 4,
 "nbformat_minor": 5
}
